{
 "cells": [
  {
   "cell_type": "code",
   "execution_count": 3,
   "id": "4c983392-63cd-43d0-a04e-036db85e210a",
   "metadata": {},
   "outputs": [],
   "source": [
    "import openai\n"
   ]
  },
  {
   "cell_type": "code",
   "execution_count": 5,
   "id": "50d80096-e176-43b9-a758-17b1c1a30b2f",
   "metadata": {},
   "outputs": [],
   "source": [
    "from openai import OpenAI"
   ]
  },
  {
   "cell_type": "code",
   "execution_count": 13,
   "id": "c05ce482-7ae7-4a04-87b1-17b1f0a006b9",
   "metadata": {},
   "outputs": [],
   "source": [
    "client = OpenAI()\n"
   ]
  },
  {
   "cell_type": "code",
   "execution_count": 6,
   "id": "a317ed8b-7f7b-49f5-9594-ebf836701d2e",
   "metadata": {},
   "outputs": [],
   "source": [
    "import os"
   ]
  },
  {
   "cell_type": "markdown",
   "id": "9d4a02ce-e6c8-4466-8305-709ec77f7f1a",
   "metadata": {},
   "source": [
    "You can get all the environment variable and keys using this\n",
    "\n",
    "os.environ"
   ]
  },
  {
   "cell_type": "code",
   "execution_count": null,
   "id": "bf2aee8b-a6d8-400b-9037-4381cdb988f5",
   "metadata": {},
   "outputs": [],
   "source": [
    "os.environ"
   ]
  },
  {
   "cell_type": "code",
   "execution_count": 14,
   "id": "f892269c-608e-4e8f-83b5-a190096cb2a2",
   "metadata": {},
   "outputs": [],
   "source": [
    "response = client.chat.completions.create(\n",
    "    model='gpt-4o',\n",
    "    messages=[{\"role\": \"user\", \"content\": \"is it too late to join the course?\"}]\n",
    ")"
   ]
  },
  {
   "cell_type": "code",
   "execution_count": 16,
   "id": "ae20d2f8-ac09-445c-b7fc-bb561771fe84",
   "metadata": {},
   "outputs": [
    {
     "data": {
      "text/plain": [
       "\"It's difficult to provide a specific answer without more details. Generally, whether it's too late to join a course depends on several factors:\\n\\n1. **Enrollment Deadlines:** Check if the course has specific deadlines for enrollment.\\n2. **Course Duration:** Determine how much of the course has already passed and whether catching up is feasible.\\n3. **Instructor Policies:** Some instructors are flexible and may allow late enrollment with certain conditions.\\n4. **Course Type:** Online courses often offer more flexibility compared to in-person courses.\\n\\nIt's best to contact the course instructor or the enrollment office directly to get precise information. They can provide guidance on deadlines, the feasibility of catching up, and any special permissions you might need.\""
      ]
     },
     "execution_count": 16,
     "metadata": {},
     "output_type": "execute_result"
    }
   ],
   "source": [
    "response.choices[0].message.content"
   ]
  },
  {
   "cell_type": "code",
   "execution_count": null,
   "id": "8efebf3d-f6f6-45c2-80d9-e93aadeb5c89",
   "metadata": {},
   "outputs": [],
   "source": []
  }
 ],
 "metadata": {
  "kernelspec": {
   "display_name": "Python 3 (ipykernel)",
   "language": "python",
   "name": "python3"
  },
  "language_info": {
   "codemirror_mode": {
    "name": "ipython",
    "version": 3
   },
   "file_extension": ".py",
   "mimetype": "text/x-python",
   "name": "python",
   "nbconvert_exporter": "python",
   "pygments_lexer": "ipython3",
   "version": "3.10.13"
  }
 },
 "nbformat": 4,
 "nbformat_minor": 5
}
